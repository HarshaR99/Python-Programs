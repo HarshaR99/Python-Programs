{
  "nbformat": 4,
  "nbformat_minor": 0,
  "metadata": {
    "colab": {
      "name": "TensorFlow Introduction.ipynb",
      "provenance": [],
      "collapsed_sections": [],
      "authorship_tag": "ABX9TyODxcWnB+S9B2kYAkMa695y",
      "include_colab_link": true
    },
    "kernelspec": {
      "name": "python3",
      "display_name": "Python 3"
    }
  },
  "cells": [
    {
      "cell_type": "markdown",
      "metadata": {
        "id": "view-in-github",
        "colab_type": "text"
      },
      "source": [
        "<a href=\"https://colab.research.google.com/github/HarshaR99/Python-Programs/blob/master/TensorFlow_Introduction.ipynb\" target=\"_parent\"><img src=\"https://colab.research.google.com/assets/colab-badge.svg\" alt=\"Open In Colab\"/></a>"
      ]
    },
    {
      "cell_type": "code",
      "metadata": {
        "id": "J7-1ZzS_Yy9n",
        "colab_type": "code",
        "colab": {
          "base_uri": "https://localhost:8080/",
          "height": 51
        },
        "outputId": "9eafecdb-390d-4f59-b433-68fd27d26bf8"
      },
      "source": [
        "%tensorflow_version 2.x\n",
        "import tensorflow as tf"
      ],
      "execution_count": 1,
      "outputs": [
        {
          "output_type": "stream",
          "text": [
            "TensorFlow 2.x selected.\n"
          ],
          "name": "stdout"
        },
        {
          "output_type": "execute_result",
          "data": {
            "text/plain": [
              "<tf.Tensor: shape=(), dtype=int32, numpy=2>"
            ]
          },
          "metadata": {
            "tags": []
          },
          "execution_count": 1
        }
      ]
    },
    {
      "cell_type": "markdown",
      "metadata": {
        "id": "YOfuNMpJiOE6",
        "colab_type": "text"
      },
      "source": [
        "#Rank of Tensor\n",
        "The highest degree of nested list is the rank of the tensor.In the below example there is an array3 which lies in an array2 which is nested array inside array1. I guess we should have uniform number of elements in each nested array here in a tensor, like I cannot have a single element in array3. "
      ]
    },
    {
      "cell_type": "code",
      "metadata": {
        "id": "9hhoV2nxZk4u",
        "colab_type": "code",
        "colab": {
          "base_uri": "https://localhost:8080/",
          "height": 34
        },
        "outputId": "8524ad06-9c8b-4d96-91e7-3f34ce3cd6dd"
      },
      "source": [
        "rank1_tensor = tf.Variable([ [ [\"Test\",'ja'],[\"Test\",'ja'] ],[ [\"Test\",'ja'],['Hello','jp'] ],[ [\"Test\",'ja'], ['ikl','ha']]], tf.string)\n",
        "tf.rank(rank1_tensor)"
      ],
      "execution_count": 17,
      "outputs": [
        {
          "output_type": "execute_result",
          "data": {
            "text/plain": [
              "<tf.Tensor: shape=(), dtype=int32, numpy=3>"
            ]
          },
          "metadata": {
            "tags": []
          },
          "execution_count": 17
        }
      ]
    },
    {
      "cell_type": "markdown",
      "metadata": {
        "id": "VB61M5lK4-ju",
        "colab_type": "text"
      },
      "source": [
        "#Shape of tensor\n",
        "A shape tells us the number of items we have in each dimension"
      ]
    },
    {
      "cell_type": "code",
      "metadata": {
        "id": "pknkNRyC4ohl",
        "colab_type": "code",
        "colab": {
          "base_uri": "https://localhost:8080/",
          "height": 34
        },
        "outputId": "9ebbd7f4-5677-4bdd-cb58-6bc43a581629"
      },
      "source": [
        "rank1_tensor.shape"
      ],
      "execution_count": 18,
      "outputs": [
        {
          "output_type": "execute_result",
          "data": {
            "text/plain": [
              "TensorShape([3, 2, 2])"
            ]
          },
          "metadata": {
            "tags": []
          },
          "execution_count": 18
        }
      ]
    },
    {
      "cell_type": "markdown",
      "metadata": {
        "id": "V6-6okUV5AAB",
        "colab_type": "text"
      },
      "source": [
        "The shape is 3,2,2 possibly beacuse there are 3 arrays of type array2 each with two array of type array 3 which in turn contain 3 elements.\n",
        "Note that there are 3 values for shape as there are 3 layers of nested arrays as the tensor variable."
      ]
    },
    {
      "cell_type": "code",
      "metadata": {
        "id": "9Ye1znkV5X4p",
        "colab_type": "code",
        "colab": {
          "base_uri": "https://localhost:8080/",
          "height": 34
        },
        "outputId": "9bc35903-d6df-40ad-aa47-d6c3431a06c3"
      },
      "source": [
        "shape_tensor = tf.Variable([ [ [\"Test\"],[\"Test\"] ],[ [\"Test\"],['Hello'] ],[ [\"Test\"], ['ikl']]], tf.string)\n",
        "shape_tensor.shape"
      ],
      "execution_count": 19,
      "outputs": [
        {
          "output_type": "execute_result",
          "data": {
            "text/plain": [
              "TensorShape([3, 2, 1])"
            ]
          },
          "metadata": {
            "tags": []
          },
          "execution_count": 19
        }
      ]
    },
    {
      "cell_type": "markdown",
      "metadata": {
        "id": "nyPFkx8B5oZt",
        "colab_type": "text"
      },
      "source": [
        "The shape of this tensor is 3,2,1 possibly beacuse there 3 arrays of type array2, where each of them contain 2 arrays of type array3 , and each array3 contains 1 element each."
      ]
    },
    {
      "cell_type": "markdown",
      "metadata": {
        "id": "rICkUVao8z3k",
        "colab_type": "text"
      },
      "source": [
        "Reshaping tensors : an example \n",
        "Here we create a variable filled with 1's which have shape of 1,2,3 and then\n",
        "reshape them to 2,3,1\n",
        "# The numer of elements in the reshaped tensor MUST match the number in the original"
      ]
    },
    {
      "cell_type": "code",
      "metadata": {
        "id": "CcySSFyu86AG",
        "colab_type": "code",
        "colab": {
          "base_uri": "https://localhost:8080/",
          "height": 323
        },
        "outputId": "b11eaf42-3e10-4f76-c45a-0d0607760440"
      },
      "source": [
        "tensor1 = tf.ones([1,2,3])\n",
        "print('tensor1')\n",
        "print(tensor1)\n",
        "print('tensor2')\n",
        "tensor2 = tf.reshape(tensor1,[2,3,1])\n",
        "print(tensor2)\n",
        "tensor3 = tf.reshape(tensor2, [3, -1])  # -1 tells the tensor to calculate the size of the dimension in that place\n",
        "                                        # this will reshape the tensor to [3,2]\n",
        "print('tensor3')\n",
        "print(tensor3)                                      "
      ],
      "execution_count": 29,
      "outputs": [
        {
          "output_type": "stream",
          "text": [
            "tensor1\n",
            "tf.Tensor(\n",
            "[[[1. 1. 1.]\n",
            "  [1. 1. 1.]]], shape=(1, 2, 3), dtype=float32)\n",
            "tensor2\n",
            "tf.Tensor(\n",
            "[[[1.]\n",
            "  [1.]\n",
            "  [1.]]\n",
            "\n",
            " [[1.]\n",
            "  [1.]\n",
            "  [1.]]], shape=(2, 3, 1), dtype=float32)\n",
            "tensor3\n",
            "tf.Tensor(\n",
            "[[1. 1.]\n",
            " [1. 1.]\n",
            " [1. 1.]], shape=(3, 2), dtype=float32)\n"
          ],
          "name": "stdout"
        }
      ]
    },
    {
      "cell_type": "markdown",
      "metadata": {
        "id": "xD2TnPueRr7z",
        "colab_type": "text"
      },
      "source": [
        "#Types of Tensors\n",
        "1. Variable\n",
        "2. Constant\n",
        "3. Placeholder\n",
        "4. SparseTensor\n",
        "\n",
        "Except Variable all other types of tensors are immutable"
      ]
    }
  ]
}